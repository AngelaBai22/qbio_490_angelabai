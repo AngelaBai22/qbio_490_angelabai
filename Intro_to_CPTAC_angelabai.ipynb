{
 "cells": [
  {
   "cell_type": "markdown",
   "id": "9f3b6a87",
   "metadata": {},
   "source": [
    "# Introduction to CPTAC and Proteomics\n",
    "\n",
    "This document will take you through the basics of CPTAC and analyzing proteomic data in python. Let's get started!"
   ]
  },
  {
   "cell_type": "markdown",
   "id": "64ad08b5",
   "metadata": {},
   "source": [
    "## Setting up your working directory\n",
    "\n",
    "Set your working directory to your analysis_data folder."
   ]
  },
  {
   "cell_type": "code",
   "execution_count": 13,
   "id": "a53acaad",
   "metadata": {},
   "outputs": [],
   "source": [
    "import os\n",
    "\n",
    "os.chdir('/home1/awbai/analysis_data')"
   ]
  },
  {
   "cell_type": "markdown",
   "id": "bcf734ad",
   "metadata": {},
   "source": [
    "### Start exploring CPTAC with `cptac`\n",
    "Similar to TCGAbiolinks, we need to load the package and download the data before using.\n",
    "1. Import the package (`cptac`).\n",
    "2. Look at the data sets available to us with the list_datasets() function. As a reminder, remember the package_name.method() syntax!\n",
    "3. Download the one of interest (BRCA in our case).\n",
    "4. Load it into our python environment."
   ]
  },
  {
   "cell_type": "code",
   "execution_count": null,
   "id": "bbc56c99-5a03-4d4e-95f5-ab245934a8c4",
   "metadata": {},
   "outputs": [],
   "source": [
    "# 1. Import cptac\n",
    "import cptac \n",
    "\n",
    "# 2. Examine the data sets available with list_datasets()\n",
    "cptac.list_datasets()"
   ]
  },
  {
   "cell_type": "code",
   "execution_count": 2,
   "id": "aeb53aa2",
   "metadata": {},
   "outputs": [
    {
     "name": "stdout",
     "output_type": "stream",
     "text": [
      "                                         \r"
     ]
    }
   ],
   "source": [
    "# 3. Download the breast cancer data se5rt -- fill in dataset!\n",
    "cptac.download(dataset=\"Brca\")\n",
    "\n",
    "# 4. Load the breast cancer data set\n",
    "brca = cptac.Brca()"
   ]
  },
  {
   "cell_type": "markdown",
   "id": "fadf54d4",
   "metadata": {},
   "source": [
    "Now, we have our brca object containing a bunch of data. We can use the list_data() function the data available for the breast cancer dataset.\n",
    "<br></br>\n",
    "In addition to the proteomics data, we can also accesss the accompanying transcriptomics, CNV, etc. using this object. We will focus on the omics which we have already seen for this course; however, other data present in this dataset are also pretty interesting. Finally, many proteins can't be identified very well, so they won't appear as a column (for example, APC isn't in the proteomics data set).\n",
    "<br></br>\n",
    "**Exercise 1.1** Call the list_data() function from the brca object to examine the different data contained in the brca object. Much like calling functions from a package, we can use the brca.function() syntax.\n",
    "\n",
    "* How many patients do you think there are in this dataset? (Make an educated guess about this from the dimensions - we'll confirm your answer later on) "
   ]
  },
  {
   "cell_type": "code",
   "execution_count": null,
   "id": "4b56bd30-cc09-42f8-9892-a5a258ac5ebc",
   "metadata": {},
   "outputs": [],
   "source": [
    "# Run the list_data() function\n",
    "brca.list_data()"
   ]
  },
  {
   "cell_type": "markdown",
   "id": "ab6034bd",
   "metadata": {},
   "source": [
    "**Exercise 1.2** Use the get_proteomics() function to store the proteomics data into a new data frame."
   ]
  },
  {
   "cell_type": "code",
   "execution_count": 4,
   "id": "2f7abc05",
   "metadata": {},
   "outputs": [],
   "source": [
    "protein_data = brca.get_proteomics() # get the proteomics data\n",
    "protein_data # view the data\n",
    "\n",
    "\n",
    "# Uncomment and run this command after you get the data, you don't really need to know what it does but it collapses\n",
    "# the column names and gets rid of the database_IDs which will make our lives much easier!\n",
    "\n",
    "protein_data.columns = protein_data.columns.get_level_values(0) \n"
   ]
  },
  {
   "cell_type": "markdown",
   "id": "1188f104",
   "metadata": {},
   "source": [
    "## (2) Exploring the Data\n",
    "\n",
    "As mentioned earlier, `cptac` data is in the form of `pandas` dataframes. Let's load that and `numpy`. \n",
    "\n",
    "**Exercise 2.1** Import numpy and pandas with their usual shortened names (pd and np)."
   ]
  },
  {
   "cell_type": "code",
   "execution_count": 3,
   "id": "8ace4453",
   "metadata": {
    "scrolled": true
   },
   "outputs": [],
   "source": [
    "# import packages here\n",
    "\n",
    "import numpy as np\n",
    "import pandas as pd"
   ]
  },
  {
   "cell_type": "markdown",
   "id": "2b18a548",
   "metadata": {},
   "source": [
    "Remember that we can access the rows/column names of a data frame in two ways:\n",
    "1. We can get the row and column names together in a list with the `axes` attribute.\n",
    "2. We can get the row or column names individually in the `index` (row) or `columns` (column) attribute.\n",
    "<br></br>\n",
    "**Exercise 2.2** Print the axes, index, and columns of the protein_data object. Then, determine its dimensions using the shape attribute. Finally, answer the following questions:\n",
    "\n",
    "* How many rows and columns are there in the data frame? Columns represent a specific protein \n",
    "* What do the rows and columns represent? Rows represent each patient by their ID\n",
    "* How many patients are there? 122\n",
    "* What about proteins? 10107"
   ]
  },
  {
   "cell_type": "code",
   "execution_count": null,
   "id": "d8218889-9ec0-4460-bb43-bca56e21c559",
   "metadata": {},
   "outputs": [],
   "source": [
    "## Explore the data frame here and answer questions\n",
    "#protein_data.axes\n",
    "\n",
    "#protein_data.index\n",
    "\n",
    "#protein_data\n",
    "\n",
    "protein_data.columns"
   ]
  },
  {
   "cell_type": "markdown",
   "id": "6db06758",
   "metadata": {},
   "source": [
    "Remember we can access data by name using `.loc[]` and `.iloc[]`. Since this dataset is really large, we won't really use `.iloc[]` which accesses by index. To get the protein expression information for a specific patient, therefore, we would run something like this: "
   ]
  },
  {
   "cell_type": "code",
   "execution_count": null,
   "id": "98bca918-6c3a-4e5a-8124-dc263dd73d04",
   "metadata": {},
   "outputs": [],
   "source": [
    "protein_data.loc[\"patient ID\",\"protein name\"] # this is the general case, you have to fill in actual IDs/protein names"
   ]
  },
  {
   "cell_type": "code",
   "execution_count": 20,
   "id": "5158710b",
   "metadata": {},
   "outputs": [
    {
     "ename": "KeyError",
     "evalue": "'patient ID'",
     "output_type": "error",
     "traceback": [
      "\u001b[0;31m---------------------------------------------------------------------------\u001b[0m",
      "\u001b[0;31mKeyError\u001b[0m                                  Traceback (most recent call last)",
      "File \u001b[0;32m~/.local/lib/python3.11/site-packages/pandas/core/indexes/base.py:3790\u001b[0m, in \u001b[0;36mIndex.get_loc\u001b[0;34m(self, key)\u001b[0m\n\u001b[1;32m   3789\u001b[0m \u001b[38;5;28;01mtry\u001b[39;00m:\n\u001b[0;32m-> 3790\u001b[0m     \u001b[38;5;28;01mreturn\u001b[39;00m \u001b[38;5;28;43mself\u001b[39;49m\u001b[38;5;241;43m.\u001b[39;49m\u001b[43m_engine\u001b[49m\u001b[38;5;241;43m.\u001b[39;49m\u001b[43mget_loc\u001b[49m\u001b[43m(\u001b[49m\u001b[43mcasted_key\u001b[49m\u001b[43m)\u001b[49m\n\u001b[1;32m   3791\u001b[0m \u001b[38;5;28;01mexcept\u001b[39;00m \u001b[38;5;167;01mKeyError\u001b[39;00m \u001b[38;5;28;01mas\u001b[39;00m err:\n",
      "File \u001b[0;32mindex.pyx:152\u001b[0m, in \u001b[0;36mpandas._libs.index.IndexEngine.get_loc\u001b[0;34m()\u001b[0m\n",
      "File \u001b[0;32mindex.pyx:181\u001b[0m, in \u001b[0;36mpandas._libs.index.IndexEngine.get_loc\u001b[0;34m()\u001b[0m\n",
      "File \u001b[0;32mpandas/_libs/hashtable_class_helper.pxi:7080\u001b[0m, in \u001b[0;36mpandas._libs.hashtable.PyObjectHashTable.get_item\u001b[0;34m()\u001b[0m\n",
      "File \u001b[0;32mpandas/_libs/hashtable_class_helper.pxi:7088\u001b[0m, in \u001b[0;36mpandas._libs.hashtable.PyObjectHashTable.get_item\u001b[0;34m()\u001b[0m\n",
      "\u001b[0;31mKeyError\u001b[0m: 'patient ID'",
      "\nThe above exception was the direct cause of the following exception:\n",
      "\u001b[0;31mKeyError\u001b[0m                                  Traceback (most recent call last)",
      "Cell \u001b[0;32mIn[20], line 1\u001b[0m\n\u001b[0;32m----> 1\u001b[0m \u001b[43mprotein_data\u001b[49m\u001b[38;5;241;43m.\u001b[39;49m\u001b[43mloc\u001b[49m\u001b[43m[\u001b[49m\u001b[38;5;124;43m\"\u001b[39;49m\u001b[38;5;124;43mpatient ID\u001b[39;49m\u001b[38;5;124;43m\"\u001b[39;49m\u001b[43m,\u001b[49m\u001b[38;5;124;43m\"\u001b[39;49m\u001b[38;5;124;43mprotein name\u001b[39;49m\u001b[38;5;124;43m\"\u001b[39;49m\u001b[43m]\u001b[49m \u001b[38;5;66;03m# this is the general case, you have to fill in actual IDs/protein names\u001b[39;00m\n",
      "File \u001b[0;32m~/.local/lib/python3.11/site-packages/pandas/core/indexing.py:1147\u001b[0m, in \u001b[0;36m_LocationIndexer.__getitem__\u001b[0;34m(self, key)\u001b[0m\n\u001b[1;32m   1145\u001b[0m     \u001b[38;5;28;01mif\u001b[39;00m \u001b[38;5;28mself\u001b[39m\u001b[38;5;241m.\u001b[39m_is_scalar_access(key):\n\u001b[1;32m   1146\u001b[0m         \u001b[38;5;28;01mreturn\u001b[39;00m \u001b[38;5;28mself\u001b[39m\u001b[38;5;241m.\u001b[39mobj\u001b[38;5;241m.\u001b[39m_get_value(\u001b[38;5;241m*\u001b[39mkey, takeable\u001b[38;5;241m=\u001b[39m\u001b[38;5;28mself\u001b[39m\u001b[38;5;241m.\u001b[39m_takeable)\n\u001b[0;32m-> 1147\u001b[0m     \u001b[38;5;28;01mreturn\u001b[39;00m \u001b[38;5;28;43mself\u001b[39;49m\u001b[38;5;241;43m.\u001b[39;49m\u001b[43m_getitem_tuple\u001b[49m\u001b[43m(\u001b[49m\u001b[43mkey\u001b[49m\u001b[43m)\u001b[49m\n\u001b[1;32m   1148\u001b[0m \u001b[38;5;28;01melse\u001b[39;00m:\n\u001b[1;32m   1149\u001b[0m     \u001b[38;5;66;03m# we by definition only have the 0th axis\u001b[39;00m\n\u001b[1;32m   1150\u001b[0m     axis \u001b[38;5;241m=\u001b[39m \u001b[38;5;28mself\u001b[39m\u001b[38;5;241m.\u001b[39maxis \u001b[38;5;129;01mor\u001b[39;00m \u001b[38;5;241m0\u001b[39m\n",
      "File \u001b[0;32m~/.local/lib/python3.11/site-packages/pandas/core/indexing.py:1330\u001b[0m, in \u001b[0;36m_LocIndexer._getitem_tuple\u001b[0;34m(self, tup)\u001b[0m\n\u001b[1;32m   1328\u001b[0m \u001b[38;5;28;01mwith\u001b[39;00m suppress(IndexingError):\n\u001b[1;32m   1329\u001b[0m     tup \u001b[38;5;241m=\u001b[39m \u001b[38;5;28mself\u001b[39m\u001b[38;5;241m.\u001b[39m_expand_ellipsis(tup)\n\u001b[0;32m-> 1330\u001b[0m     \u001b[38;5;28;01mreturn\u001b[39;00m \u001b[38;5;28;43mself\u001b[39;49m\u001b[38;5;241;43m.\u001b[39;49m\u001b[43m_getitem_lowerdim\u001b[49m\u001b[43m(\u001b[49m\u001b[43mtup\u001b[49m\u001b[43m)\u001b[49m\n\u001b[1;32m   1332\u001b[0m \u001b[38;5;66;03m# no multi-index, so validate all of the indexers\u001b[39;00m\n\u001b[1;32m   1333\u001b[0m tup \u001b[38;5;241m=\u001b[39m \u001b[38;5;28mself\u001b[39m\u001b[38;5;241m.\u001b[39m_validate_tuple_indexer(tup)\n",
      "File \u001b[0;32m~/.local/lib/python3.11/site-packages/pandas/core/indexing.py:1039\u001b[0m, in \u001b[0;36m_LocationIndexer._getitem_lowerdim\u001b[0;34m(self, tup)\u001b[0m\n\u001b[1;32m   1035\u001b[0m \u001b[38;5;28;01mfor\u001b[39;00m i, key \u001b[38;5;129;01min\u001b[39;00m \u001b[38;5;28menumerate\u001b[39m(tup):\n\u001b[1;32m   1036\u001b[0m     \u001b[38;5;28;01mif\u001b[39;00m is_label_like(key):\n\u001b[1;32m   1037\u001b[0m         \u001b[38;5;66;03m# We don't need to check for tuples here because those are\u001b[39;00m\n\u001b[1;32m   1038\u001b[0m         \u001b[38;5;66;03m#  caught by the _is_nested_tuple_indexer check above.\u001b[39;00m\n\u001b[0;32m-> 1039\u001b[0m         section \u001b[38;5;241m=\u001b[39m \u001b[38;5;28;43mself\u001b[39;49m\u001b[38;5;241;43m.\u001b[39;49m\u001b[43m_getitem_axis\u001b[49m\u001b[43m(\u001b[49m\u001b[43mkey\u001b[49m\u001b[43m,\u001b[49m\u001b[43m \u001b[49m\u001b[43maxis\u001b[49m\u001b[38;5;241;43m=\u001b[39;49m\u001b[43mi\u001b[49m\u001b[43m)\u001b[49m\n\u001b[1;32m   1041\u001b[0m         \u001b[38;5;66;03m# We should never have a scalar section here, because\u001b[39;00m\n\u001b[1;32m   1042\u001b[0m         \u001b[38;5;66;03m#  _getitem_lowerdim is only called after a check for\u001b[39;00m\n\u001b[1;32m   1043\u001b[0m         \u001b[38;5;66;03m#  is_scalar_access, which that would be.\u001b[39;00m\n\u001b[1;32m   1044\u001b[0m         \u001b[38;5;28;01mif\u001b[39;00m section\u001b[38;5;241m.\u001b[39mndim \u001b[38;5;241m==\u001b[39m \u001b[38;5;28mself\u001b[39m\u001b[38;5;241m.\u001b[39mndim:\n\u001b[1;32m   1045\u001b[0m             \u001b[38;5;66;03m# we're in the middle of slicing through a MultiIndex\u001b[39;00m\n\u001b[1;32m   1046\u001b[0m             \u001b[38;5;66;03m# revise the key wrt to `section` by inserting an _NS\u001b[39;00m\n",
      "File \u001b[0;32m~/.local/lib/python3.11/site-packages/pandas/core/indexing.py:1393\u001b[0m, in \u001b[0;36m_LocIndexer._getitem_axis\u001b[0;34m(self, key, axis)\u001b[0m\n\u001b[1;32m   1391\u001b[0m \u001b[38;5;66;03m# fall thru to straight lookup\u001b[39;00m\n\u001b[1;32m   1392\u001b[0m \u001b[38;5;28mself\u001b[39m\u001b[38;5;241m.\u001b[39m_validate_key(key, axis)\n\u001b[0;32m-> 1393\u001b[0m \u001b[38;5;28;01mreturn\u001b[39;00m \u001b[38;5;28;43mself\u001b[39;49m\u001b[38;5;241;43m.\u001b[39;49m\u001b[43m_get_label\u001b[49m\u001b[43m(\u001b[49m\u001b[43mkey\u001b[49m\u001b[43m,\u001b[49m\u001b[43m \u001b[49m\u001b[43maxis\u001b[49m\u001b[38;5;241;43m=\u001b[39;49m\u001b[43maxis\u001b[49m\u001b[43m)\u001b[49m\n",
      "File \u001b[0;32m~/.local/lib/python3.11/site-packages/pandas/core/indexing.py:1343\u001b[0m, in \u001b[0;36m_LocIndexer._get_label\u001b[0;34m(self, label, axis)\u001b[0m\n\u001b[1;32m   1341\u001b[0m \u001b[38;5;28;01mdef\u001b[39;00m \u001b[38;5;21m_get_label\u001b[39m(\u001b[38;5;28mself\u001b[39m, label, axis: AxisInt):\n\u001b[1;32m   1342\u001b[0m     \u001b[38;5;66;03m# GH#5567 this will fail if the label is not present in the axis.\u001b[39;00m\n\u001b[0;32m-> 1343\u001b[0m     \u001b[38;5;28;01mreturn\u001b[39;00m \u001b[38;5;28;43mself\u001b[39;49m\u001b[38;5;241;43m.\u001b[39;49m\u001b[43mobj\u001b[49m\u001b[38;5;241;43m.\u001b[39;49m\u001b[43mxs\u001b[49m\u001b[43m(\u001b[49m\u001b[43mlabel\u001b[49m\u001b[43m,\u001b[49m\u001b[43m \u001b[49m\u001b[43maxis\u001b[49m\u001b[38;5;241;43m=\u001b[39;49m\u001b[43maxis\u001b[49m\u001b[43m)\u001b[49m\n",
      "File \u001b[0;32m~/.local/lib/python3.11/site-packages/pandas/core/generic.py:4236\u001b[0m, in \u001b[0;36mNDFrame.xs\u001b[0;34m(self, key, axis, level, drop_level)\u001b[0m\n\u001b[1;32m   4234\u001b[0m             new_index \u001b[38;5;241m=\u001b[39m index[loc]\n\u001b[1;32m   4235\u001b[0m \u001b[38;5;28;01melse\u001b[39;00m:\n\u001b[0;32m-> 4236\u001b[0m     loc \u001b[38;5;241m=\u001b[39m \u001b[43mindex\u001b[49m\u001b[38;5;241;43m.\u001b[39;49m\u001b[43mget_loc\u001b[49m\u001b[43m(\u001b[49m\u001b[43mkey\u001b[49m\u001b[43m)\u001b[49m\n\u001b[1;32m   4238\u001b[0m     \u001b[38;5;28;01mif\u001b[39;00m \u001b[38;5;28misinstance\u001b[39m(loc, np\u001b[38;5;241m.\u001b[39mndarray):\n\u001b[1;32m   4239\u001b[0m         \u001b[38;5;28;01mif\u001b[39;00m loc\u001b[38;5;241m.\u001b[39mdtype \u001b[38;5;241m==\u001b[39m np\u001b[38;5;241m.\u001b[39mbool_:\n",
      "File \u001b[0;32m~/.local/lib/python3.11/site-packages/pandas/core/indexes/base.py:3797\u001b[0m, in \u001b[0;36mIndex.get_loc\u001b[0;34m(self, key)\u001b[0m\n\u001b[1;32m   3792\u001b[0m     \u001b[38;5;28;01mif\u001b[39;00m \u001b[38;5;28misinstance\u001b[39m(casted_key, \u001b[38;5;28mslice\u001b[39m) \u001b[38;5;129;01mor\u001b[39;00m (\n\u001b[1;32m   3793\u001b[0m         \u001b[38;5;28misinstance\u001b[39m(casted_key, abc\u001b[38;5;241m.\u001b[39mIterable)\n\u001b[1;32m   3794\u001b[0m         \u001b[38;5;129;01mand\u001b[39;00m \u001b[38;5;28many\u001b[39m(\u001b[38;5;28misinstance\u001b[39m(x, \u001b[38;5;28mslice\u001b[39m) \u001b[38;5;28;01mfor\u001b[39;00m x \u001b[38;5;129;01min\u001b[39;00m casted_key)\n\u001b[1;32m   3795\u001b[0m     ):\n\u001b[1;32m   3796\u001b[0m         \u001b[38;5;28;01mraise\u001b[39;00m InvalidIndexError(key)\n\u001b[0;32m-> 3797\u001b[0m     \u001b[38;5;28;01mraise\u001b[39;00m \u001b[38;5;167;01mKeyError\u001b[39;00m(key) \u001b[38;5;28;01mfrom\u001b[39;00m \u001b[38;5;21;01merr\u001b[39;00m\n\u001b[1;32m   3798\u001b[0m \u001b[38;5;28;01mexcept\u001b[39;00m \u001b[38;5;167;01mTypeError\u001b[39;00m:\n\u001b[1;32m   3799\u001b[0m     \u001b[38;5;66;03m# If we have a listlike key, _check_indexing_error will raise\u001b[39;00m\n\u001b[1;32m   3800\u001b[0m     \u001b[38;5;66;03m#  InvalidIndexError. Otherwise we fall through and re-raise\u001b[39;00m\n\u001b[1;32m   3801\u001b[0m     \u001b[38;5;66;03m#  the TypeError.\u001b[39;00m\n\u001b[1;32m   3802\u001b[0m     \u001b[38;5;28mself\u001b[39m\u001b[38;5;241m.\u001b[39m_check_indexing_error(key)\n",
      "\u001b[0;31mKeyError\u001b[0m: 'patient ID'"
     ]
    }
   ],
   "source": [
    "protein_data.loc[\"patient ID\",\"protein name\"] # this is the general case, you have to fill in actual IDs/protein names"
   ]
  },
  {
   "cell_type": "markdown",
   "id": "0c4e080d",
   "metadata": {},
   "source": [
    "**Exercise 2.3** Remember that the numerical data in CPTAC is the relative fold change, not an absolute value/count. Given this, what kind of number would represent lower relative expression? What kind of number would represent higher relative expression? (Hint: reference level is 0) "
   ]
  },
  {
   "cell_type": "code",
   "execution_count": null,
   "id": "98e77185",
   "metadata": {},
   "outputs": [],
   "source": [
    "## Answer question in comment form here\n",
    "#A higher number would represent lower relative expression. Relative fold change means that there is a \n",
    "#ratio between two quantities. A lower relative expression might be the ratio 1:10, which would be a fold\n",
    "#change of 10. A higher relative expression such as 50:50 would be represented by the smaller number 1."
   ]
  },
  {
   "cell_type": "markdown",
   "id": "ccdaaa65",
   "metadata": {},
   "source": [
    "**Exericse 2.4**\n",
    "\n",
    "Print the relative fold change of patient `X01BR008` in the `TP53` protein. Then, interpret this value -- does this patient have higher or lower protein levels than the reference? (Hint: use .loc[] and remember that a `:` can be used in either the row or column slot to access every row or every column.)\n"
   ]
  },
  {
   "cell_type": "code",
   "execution_count": null,
   "id": "112a5055",
   "metadata": {},
   "outputs": [],
   "source": [
    "## write code here\n",
    "print(protein_data.loc[\"X01BR008\", \"TP53\"])"
   ]
  },
  {
   "cell_type": "markdown",
   "id": "e66937a6",
   "metadata": {},
   "source": [
    "### Using Boolean indexing\n",
    "\n",
    "In R, we used the `ifelse()` function very heavily to assign categories, such as classifying patients as \"old\" or \"young\". In Python, we have the `where(COND, TRUE_VAL, FALSE_VAL)` function from numpy, which works extremely similarly to ifelse(). That is:\n",
    "\n",
    "   1. The first parameter is the condition (a boolean vector; i.e. Trues and Falses).\n",
    "   2. The second parameter is the value to fill the True conditions.\n",
    "   3. The third parameter is the value to fil lthe False conditions.\n",
    "    \n",
    "The following example (split into the four code blocks below) shows how to apply the `where()` function, in the context of telling if a number is odd or even."
   ]
  },
  {
   "cell_type": "code",
   "execution_count": null,
   "id": "877c4f62",
   "metadata": {
    "scrolled": true
   },
   "outputs": [],
   "source": [
    "# first let's create our example array\n",
    "\n",
    "number_example_array = pd.DataFrame({\"nums\": [0, 1, 2, 3, 4, 5]})\n",
    "number_example_array"
   ]
  },
  {
   "cell_type": "code",
   "execution_count": null,
   "id": "877ea8ef",
   "metadata": {},
   "outputs": [],
   "source": [
    "# now, let's make a boolean vector where odds will be True, evens will be False\n",
    "boolean_vector = (number_example_array % 2 == 1)\n",
    "boolean_vector"
   ]
  },
  {
   "cell_type": "code",
   "execution_count": null,
   "id": "11f0d23e",
   "metadata": {},
   "outputs": [],
   "source": [
    "# then add this vector as a column in our array (we could do this and the above in one step)\n",
    "number_example_array[\"boolean_vector\"] = boolean_vector\n",
    "number_example_array"
   ]
  },
  {
   "cell_type": "code",
   "execution_count": null,
   "id": "e85d10e5",
   "metadata": {},
   "outputs": [],
   "source": [
    "# lastly, let's add a third column called \"parity\" that says based off of \"boolean_vector\" if our value is odd/even\n",
    "number_example_array[\"parity\"] = np.where(boolean_vector, \"Odd\", \"Even\")\n",
    "number_example_array"
   ]
  },
  {
   "cell_type": "markdown",
   "id": "3ae3e913",
   "metadata": {},
   "source": [
    "**Exercise 2.5** Access the following:\n",
    "\n",
    "1. Use boolean indexing to access the patient IDs with high (≥1) `TP53` expression. Save this in a pandas DataFrame called `high_TP53`. HINTS:\n",
    "    * Think about if protein expression information will be contained in a row or a column!\n",
    "    * Create a boolean mask with the row/column that contains the expression information of `TP53`.\n",
    "    * Apply the mask to the row/column names that contains the patient IDs.\n",
    "2. How many patients are there in `high_TP53`? Which axis (columns or rows) represents proteins? There are 11 patients. The columns represent proteins. \n",
    "3. Add a column to `high_TP53` that has the values \"High\"/\"Average\"/\"Low\" based on ARF1 expression. \n",
    "4. How many patients have high expression of both `TP53` and average expression of `ARF1`?"
   ]
  },
  {
   "cell_type": "code",
   "execution_count": null,
   "id": "d71d7b15",
   "metadata": {},
   "outputs": [],
   "source": [
    "# Creating high_TP53\n",
    "\n",
    "boolean_mask = (protein_data.loc[:, \"TP53\"] >= 1)\n",
    "\n",
    "high_TP53 = protein_data.loc[boolean_mask, :]\n",
    "\n",
    "high_TP53\n",
    "\n",
    "#Adding column based on ARF1 expression\n",
    "\n",
    "\n",
    "\n"
   ]
  },
  {
   "cell_type": "markdown",
   "id": "5e91a353",
   "metadata": {},
   "source": [
    "## (3) Additional data in CPTAC\n",
    "\n",
    "You can also access other data using the `cptac` python package for the same patients, using the corresponding get function.\n",
    "\n",
    "**Exercise 3.1** Access the RNA (transcriptomics) and clinical data from the brca object. The function name is very similar in syntax to the get_proteomics() function from before!"
   ]
  },
  {
   "cell_type": "markdown",
   "id": "7d217ca6",
   "metadata": {},
   "source": [
    "**Exercise 3.2** Examine these dataframes. In particular:\n",
    "\n",
    "* What do the values in the rna_data data frame represent? The rows are patient IDs and the columns are specific genes. \n",
    "* Compare the dimensions of the high_TP53, rna_data, and clinical_data. Are they equal? They are equal!"
   ]
  },
  {
   "cell_type": "code",
   "execution_count": null,
   "id": "0ef35657",
   "metadata": {},
   "outputs": [],
   "source": [
    "# explore the data frames using shape, axes, and other functions we've gone over.\n",
    "\n",
    "rna_data.axes\n",
    "rna_data.index\n",
    "rna_data.columns\n",
    "\n",
    "clinical_data.index\n",
    "clinical_data.columns\n",
    "clinical_data.axes\n"
   ]
  },
  {
   "cell_type": "markdown",
   "id": "67f6107d",
   "metadata": {},
   "source": [
    "The dimensions for each dataframe might not be equal depending on if you masked some patients. That's where the `intersect1d()` function from numpy becomes really useful, especially if we want to analyze transcriptomics, proteomics, and clinical data together. This lets us see which patient barcodes are shared between the data frames.\n",
    "\n",
    "\n",
    "Let's take a look at all of the patients who are older than 50 years old at the time of diagnosis. \n",
    "<br></br>\n",
    "**Exercise 3.3**\n",
    "1.  Use the clinical data DataFrame to create a boolean mask for the condition of patients being older than 50.\n",
    "2.  Mask the clinical data and assign it to a DataFrame called 'masked_clinical'."
   ]
  },
  {
   "cell_type": "code",
   "execution_count": null,
   "id": "27343c31",
   "metadata": {},
   "outputs": [],
   "source": [
    "# write code here\n",
    "\n",
    "\n",
    "\n"
   ]
  },
  {
   "cell_type": "markdown",
   "id": "d356f73c",
   "metadata": {},
   "source": [
    "Now that we have masked our data, if we tried to do an analysis using the different data frames, we would get a lot of errors since we are now missing some patients in our masked_clinical data frame. If we want to get the patients who are present in the masked data as well as the rna_data and protein_data, we can use intersect1d().\n",
    "\n",
    "**Exercise 3.4**\n",
    "1. Use `intersect1d()` from np to create a list that contains the patient IDs for each pair of data frames as mentioned below. (Hint: this function takes two 1d arrays, which would be patient IDs from two different dataframes. How do we get this from each dataframe? Are patient IDs rows or columns?) \n",
    "2. Use a for loop to print the lengths of these three data frames, and compare them to the number of rows. The for loop skeleton is below. What do you notice about the three lengths? Do the numbers correspond to anything in particular?\n",
    "3. Finally, identify which intersection contains the patient IDs where there is data for all three levels of data (proteomics, transcriptomics, and clinical). How can we tell?"
   ]
  },
  {
   "cell_type": "code",
   "execution_count": null,
   "id": "6daf99fa",
   "metadata": {},
   "outputs": [],
   "source": [
    "# 1.\n",
    "name_intersects = [\n",
    "    , # 0. fill in intersecting for protein/rna here using intersect1d()\n",
    "    , # 1. fill in intersecting for protein/masked clinical here\n",
    "    , # 2. fill in the intersecting for rna/masked clinical here\n",
    "]\n",
    "\n",
    "# 2. Print the lengths here\n",
    "# write a for loop here\n",
    "    print(f\"The length of ____ is _____\")  # fill in here\n",
    "    \n",
    "# 3. Which comparison(s) contain the patient names that have all three levels?"
   ]
  },
  {
   "cell_type": "markdown",
   "id": "f34fa008",
   "metadata": {},
   "source": [
    "## (4) Examining the Clinical Data"
   ]
  },
  {
   "cell_type": "markdown",
   "id": "1c16ae96",
   "metadata": {},
   "source": [
    "Let's explore the clinical data in more detail.\n",
    "\n",
    "First, use head() to glance as to what data is available."
   ]
  },
  {
   "cell_type": "code",
   "execution_count": null,
   "id": "60fe1771",
   "metadata": {},
   "outputs": [],
   "source": [
    "# write code here"
   ]
  },
  {
   "cell_type": "markdown",
   "id": "77030e93",
   "metadata": {},
   "source": [
    "**Exercise 4.1** You might notice that the Age column values don't look like years -- they're in months. Create a new column called \"Age\" with the \"Age.in.Month\" values / 12. Then, use head() again to make sure the ages were converted."
   ]
  },
  {
   "cell_type": "code",
   "execution_count": null,
   "id": "e2b7a6d2",
   "metadata": {},
   "outputs": [],
   "source": [
    "# convert ages here!"
   ]
  },
  {
   "cell_type": "markdown",
   "id": "a7e704a4",
   "metadata": {},
   "source": [
    "There are actually control (non-cancer) tissue samples in some datasets. Let's determine whether we need to account for this in our dataset this using the unique() function from numpy.\n",
    "\n",
    "__Exercise 4.2__ Call the unique() function on the Sample_Tumor_Normal column. The function will return the unique values in the column in a sorted order -- this is super useful for examining categorical variables, like tumor stage and tumor status, for example."
   ]
  },
  {
   "cell_type": "code",
   "execution_count": null,
   "id": "5b56fa09",
   "metadata": {},
   "outputs": [],
   "source": [
    "# Get the levels of the Sample_Tumor_Normal column with unique()"
   ]
  },
  {
   "cell_type": "markdown",
   "id": "5b1338d1",
   "metadata": {},
   "source": [
    "__Exercise 4.3__ Let's examine how tumor stage varies as a function of age:\n",
    "\n",
    "   1. Import the plotting libraries matplotlib.pyplot and seaborn (use the standard abbreviations presented last time, seaborn is sns).\n",
    "   2. Create an age_category column in clinical_data. Define \"Young\" as under the median age, and \"Old\" as the median age and older. (Hint: use the where() function from numpy, the equivalent to ifelse()).\n",
    "   3. The \"Stage\" information for soome of these patients is NaN (the pandas version of NA). Use the isna() function from pandas and boolean indexing (i.e. where() from numpy again) to remove any patients with NaN values in \"Stage\".\n",
    "   4. Using nested for loop and boolean indexing, count the number of old and young patients that have Stage I, Stage II, Stage III, and Stage IV cancer.\n",
    "   5. Use the skeleton code to draw the barplot. Do your numbers make sense?"
   ]
  },
  {
   "cell_type": "code",
   "execution_count": null,
   "id": "3d9b0202",
   "metadata": {},
   "outputs": [],
   "source": [
    "# 1. Import libraries here\n",
    "\n",
    "\n",
    "# 2. Create the age_category column in clinical_data\n",
    "\n",
    "\n",
    "# 3. Filter our NaN\n",
    "\n",
    "\n",
    "\n",
    "## this will programatically get all the stages in order\n",
    "stage_categories = np.unique(clinical_data.loc[:, 'Stage'])\n",
    "assert(np.all(stage_categories == ['Stage IA', 'Stage IIA', 'Stage IIB',\n",
    "                                    'Stage III', 'Stage IIIA', 'Stage IIIB', 'Stage IIIC']))\n",
    "\n",
    "# 4. Loop through all the stage categories and count\n",
    "\n",
    "for age_cat in [\"Old\", \"Young\"]: # first get the old data, then the young data\n",
    "    print(age_cat)\n",
    "    # fill this in with the cancer category:\n",
    "    for ...:\n",
    "        # 1. create a subset of the data frame with the old/young patients\n",
    "        # 2. count the number of patients with the stage of cancer and print\n",
    "\n",
    "\n",
    "        \n",
    "# 5. Create a barplot to compare your results\n",
    "sns.countplot(\n",
    "    x = \"age_category\",\n",
    "    hue = \"Stage\",\n",
    "    hue_order = stage_categories,\n",
    "    data = INSERT HERE\n",
    ")\n",
    "\n",
    "plt.show()"
   ]
  },
  {
   "cell_type": "markdown",
   "id": "c5b41b9e",
   "metadata": {},
   "source": [
    "## (5) Plotting Proteomic Data"
   ]
  },
  {
   "cell_type": "markdown",
   "id": "456a052b",
   "metadata": {},
   "source": [
    "Let's explore how the proteomic expression of a gene differs between young and old patients.\n",
    "\n",
    "**Exercise 5.1** Plot the expression data of a chosen protein stratified between patients older and younger than the median age."
   ]
  },
  {
   "cell_type": "code",
   "execution_count": null,
   "id": "73359e8c",
   "metadata": {},
   "outputs": [],
   "source": [
    "young_mask = FILL IN HERE # the age column is 'Age.in.Month', which (as stated) is in months\n",
    "old_mask = FILL IN HERE\n",
    "\n",
    "young = (protein_data.loc[FILL IN HERE]).dropna()\n",
    "old = (protein_data.loc[FILL IN HERE]).dropna()\n",
    "\n",
    "data = [old.values, young.values] # our boxplot function will require an array (or an array of arrays)\n",
    "data"
   ]
  },
  {
   "cell_type": "code",
   "execution_count": null,
   "id": "01ad52bc",
   "metadata": {},
   "outputs": [],
   "source": [
    "fig, ax = plt.subplots()\n",
    "\n",
    "plt.axhline(y = 0, color = 'blue', linestyle = '-')\n",
    "plt.axhline(y = -1, color = 'blue', linestyle = ':')\n",
    "plt.axhline(y = 1, color = 'blue', linestyle = ':')\n",
    "\n",
    "\n",
    "bp = ax.boxplot(FILL IN HERE) # data goes here\n",
    "plt.xticks([1, 2], [\"FILL IN HERE\", \"FILL IN HERE\"]) # use \\n for new line if desired\n",
    "\n",
    "\n",
    "plt.show()"
   ]
  },
  {
   "cell_type": "markdown",
   "id": "25e3f44f",
   "metadata": {},
   "source": [
    "**Exercise 5.2** Why do you think we added lines at -1, 0, and 1? What do these values represent in terms of log2FoldChange?"
   ]
  },
  {
   "cell_type": "code",
   "execution_count": null,
   "id": "73715440",
   "metadata": {},
   "outputs": [],
   "source": [
    "# answer in a comment here"
   ]
  },
  {
   "cell_type": "markdown",
   "id": "fa7c2940",
   "metadata": {},
   "source": [
    "## (6) SciPy\n",
    "Another question to ask is if the levels of RNA expression correlate with protein expression. While we would expect for there to be a 1:1 relationship between RNA and protein (according to the central dogma), as you will see, this is not what we oftentimes observe."
   ]
  },
  {
   "cell_type": "code",
   "execution_count": null,
   "id": "f5be4586",
   "metadata": {},
   "outputs": [],
   "source": [
    "from scipy import stats # we are using the stats package in particular"
   ]
  },
  {
   "cell_type": "markdown",
   "id": "6d033105",
   "metadata": {},
   "source": [
    "The first thing we need to do is to identify which patients and genes are shared between the transcriptomic and proteomic data sets.\n",
    "\n",
    "Luckily for us, all 122 patients in the Brca dataset have clinical, transcriptomic, and proteomic data. If this were not the case (such as in the colon cancer database), we would use intersect1d() to fix this. We will still need to use intersect1d() to determine which genes are shared.\n",
    "\n",
    "**Exercise 6.1** To make sure the data frames match:\n",
    "\n",
    "1. Identify the names of the genes that are shared between the two datasets (hint: use intersect1d()). Is this data the row or column names?\n",
    "2. Create the rna_shared and prot_shared data frames; ie dataframes with only genes that are shared between rna and protein data. (Hint: how can we access rows/columns by name?)."
   ]
  },
  {
   "cell_type": "code",
   "execution_count": null,
   "id": "a5cf7b19",
   "metadata": {},
   "outputs": [],
   "source": [
    "# 1. Identify the genes (RNA, protein) shared between the two data sets \n",
    "shared_rna_prot = FILL IN HERE\n",
    "\n",
    "# 2. Create the two data frames\n",
    "rna_shared = FILL IN HERE\n",
    "prot_shared = FILL IN HERE"
   ]
  },
  {
   "cell_type": "markdown",
   "id": "7a365ac5",
   "metadata": {},
   "source": [
    "Now, we can see how correlated the RNA and protein levels are. We'll use Spearman correlation from the stats library, which is spearmanr().\n",
    "\n",
    "**Exercise 6.2** Choose a gene and get the Spearman correlation of the rna to protein of that gene."
   ]
  },
  {
   "cell_type": "code",
   "execution_count": null,
   "id": "ffc0f52b",
   "metadata": {},
   "outputs": [],
   "source": [
    "# we need the nan_policy=\"omit\" to throw out NaN values\n",
    "corr, pval = stats.spearmanr(rna_shared[\"FILL IN HERE\"], prot_shared[\"FILL IN HERE\"], nan_policy=\"omit\")\n",
    "\n",
    "print(f\"The correlation of FILL IN HERE is {round(corr, 3)} (p = {round(pval, 10)}).\")"
   ]
  },
  {
   "cell_type": "markdown",
   "id": "21464da2",
   "metadata": {},
   "source": [
    "**Exercise 6.3** What is your gene's Spearman correlation? What does that mean mathematically? What could this represent biologically? Look into the literature to see if it corroborates this idea."
   ]
  },
  {
   "cell_type": "code",
   "execution_count": null,
   "id": "f424914b",
   "metadata": {},
   "outputs": [],
   "source": [
    "# answer in a comment here"
   ]
  },
  {
   "cell_type": "markdown",
   "id": "d123f959",
   "metadata": {},
   "source": [
    "## (7) Heatmaps\n",
    "**Exercise 7.1** A problem arises if we want to compare many correlations. Heatmaps are useful for visualizing a large number of comparisons. To make a heatmap, we'll use the heatmap() function from seaborn. Let's do the following:\n",
    "\n",
    "1. Set up our data frame to hold all comparisons. All you need to do is to access the first 20 gene names.\n",
    "2. Calculate the correlations for the first 20 genes (just to save time). You'll need to use two for loops.\n",
    "3. Call heatmap() -- this is filled in for you!\n",
    "4. Interpret the data. There is a \"light\" diagonal along the heatmap from the top-left to bottom-right. Is this expected? Why or why not?"
   ]
  },
  {
   "cell_type": "code",
   "execution_count": null,
   "id": "79e1b2a0",
   "metadata": {},
   "outputs": [],
   "source": [
    "import seaborn as sns"
   ]
  },
  {
   "cell_type": "code",
   "execution_count": null,
   "id": "5149313c",
   "metadata": {},
   "outputs": [],
   "source": [
    "ncomparisons = 20 # define this variable in case we want to change the number of correlations to test\n",
    "                  # this makes it less likely you'll forget to change a number, e.g. in the data frame shape\n",
    "gene_names = FILL IN HERE # get the first ncomparisons gene names\n",
    "\n",
    "\n",
    "# Don't worry about this code\n",
    "# It's good practice to declare your data frame beforehand (it's much faster than appending to a list)\n",
    "# We fill everything in with 0 just as a placeholder\n",
    "corr_df = pd.DataFrame(np.ndarray(shape=(ncomparisons, ncomparisons), dtype=np.float16),\n",
    "                      index = gene_names,\n",
    "                      columns = gene_names)\n",
    "\n",
    "# 2. fill in the data frame!\n",
    "for g1 in gene_names:\n",
    "    for g2 in gene_names:\n",
    "        # calculate the correlations between protein and RNA\n",
    "        # then, use .loc[] to store the correlation in corr_df\n",
    "        FILL IN HERE\n",
    "\n",
    "# 3. create the heat map\n",
    "plot = sns.heatmap(\n",
    "    corr_df,\n",
    "    cmap='mako',\n",
    ")\n",
    "plot.set_xlabel('Protein', fontsize=10)\n",
    "plot.set_ylabel('RNA', fontsize=10)\n",
    "plt.show()\n",
    "\n",
    "# 4. interpret!"
   ]
  },
  {
   "cell_type": "markdown",
   "id": "127284e2",
   "metadata": {},
   "source": [
    "## (8) More with Seaborn\n",
    "seaborn is a nice package which works well with matplotlib and makes prettier plots with more control over the figure.\n",
    "\n",
    "Here's how you make a scatter plot with seaborn, for example:"
   ]
  },
  {
   "cell_type": "code",
   "execution_count": null,
   "id": "e7d72523",
   "metadata": {},
   "outputs": [],
   "source": [
    "fig, ax = plt.subplots()\n",
    "\n",
    "sns.scatterplot( # x-axis\n",
    "    x = clinical_data.loc[:, \"Age.in.Month\"],\n",
    "    y = protein_data.loc[:, \"DYNLT3\"],# y-axis\n",
    "    legend = \"full\",  # show the legend\n",
    "    ax = ax  # necessary for when plotting more than 1 subplot\n",
    ")\n",
    "\n",
    "fig.suptitle('Age vs. DYNLT3')  # set title\n",
    "\n",
    "plt.show()"
   ]
  },
  {
   "cell_type": "markdown",
   "id": "2b2a98a7",
   "metadata": {},
   "source": [
    "**Exercise 8.1** Update the above plot to:\n",
    "\n",
    "1. Have age in years instead of months.\n",
    "2. Color patients based on gender (or another clinical variable of your choosing)\n",
    "3. Have a side-by-side second plot with a different protein of your choosing"
   ]
  },
  {
   "cell_type": "code",
   "execution_count": null,
   "id": "0a02927d",
   "metadata": {},
   "outputs": [],
   "source": [
    "# create plot here"
   ]
  },
  {
   "cell_type": "markdown",
   "id": "392e7cd4",
   "metadata": {},
   "source": [
    "## (9) Saving Plots\n",
    "Remember, to save a plot, we can call plt.savefig() instead of the plt.show()."
   ]
  },
  {
   "cell_type": "code",
   "execution_count": null,
   "id": "d83d3ddc",
   "metadata": {},
   "outputs": [],
   "source": [
    "fig, ax = plt.subplots()\n",
    "\n",
    "sns.scatterplot( # x-axis\n",
    "    x = rna_data.loc[:, \"top 5\"],\n",
    "    y = protein_data.loc[:, \"DYNLT3\"],# y-axis\n",
    "    legend = \"full\",  # show the legend\n",
    "    ax = ax  # necessary for when plotting more than 1 subplot\n",
    ")\n",
    "\n",
    "fig.suptitle('Age vs. DYNLT3')  # set title\n",
    "\n",
    "# age_scatter.png is a relative path so check your working directory before running it\n",
    "plt.savefig('age_scatter.png', bbox_inches='tight')"
   ]
  },
  {
   "cell_type": "markdown",
   "id": "bb00966a",
   "metadata": {},
   "source": [
    "# Exercises\n",
    "Only this section will be graded!\n",
    "## 1. Drawing Connections\n",
    "1. Choose a clinical variable and segment the cohort into two groups. \n",
    "2. Find out what the 5 most differentially expressed genes are (we aren't going to do this in a sophisticated way like DESeq, instead just take the mean expression of every single gene within a group and find the gene which has the greatest difference in mean between the two groups)\n",
    "3. Create two scatter plots, side by side, each with one group. Within the scatter plots, plot (mean?) RNA expression versus protein expression for each of the genes (top 5) in a different color.\n",
    "4. Add appropriate legend, title, and labels."
   ]
  },
  {
   "cell_type": "code",
   "execution_count": null,
   "id": "1151d38e-54e3-4730-aa66-4edc75014351",
   "metadata": {},
   "outputs": [],
   "source": [
    "#Clinical variable: TNBC Status\n",
    "\n",
    "#Create a dataframe with just patient barcodes and gender\n",
    "tnbc_df = clinical_data[[\"TNBC.Updated.Clinical.Status\"]].copy()\n",
    "\n",
    "#Create a mask selecting only positive \n",
    "positive_mask = tnbc_df['TNBC.Updated.Clinical.Status'] == 'positive'\n",
    "\n",
    "positive_mask\n",
    "\n",
    "#Create a mask selecting only false \n",
    "negative_mask = tnbc_df['TNBC.Updated.Clinical.Status'] == 'negative'\n",
    "\n",
    "negative_mask\n",
    "\n",
    "\n",
    "#Finding means of positive cohort \n",
    "positive_protein_data = protein_data.loc[positive_mask, :]\n",
    "positive_protein_data\n",
    "\n",
    "negative_protein_data = protein_data.loc[negative_mask, :]\n",
    "negative_protein_data\n",
    "\n",
    "\n",
    "#Finding difference between means of each gene \n",
    "positive_gene_mean = np.mean(positive_protein_data, axis=0)\n",
    "positive_gene_mean\n",
    "\n",
    "negative_gene_mean = np.mean(negative_protein_data, axis=0)\n",
    "negative_gene_mean\n",
    "\n",
    "difference_gene_mean = (positive_gene_mean - negative_gene_mean)\n",
    "difference_gene_mean\n",
    "\n",
    "difference_gene_mean.sort_values()\n"
   ]
  },
  {
   "cell_type": "code",
   "execution_count": null,
   "id": "0665bae1-a7f5-4fea-aeef-0961a32ceef6",
   "metadata": {},
   "outputs": [],
   "source": [
    "#Top 5 genes: PPP1R14C, SOX10, SRSF12, MAPT, MYOF\n",
    "\n",
    "#Genes in Scatterplot: PPP1R14C, SOX10, SRSF12, PSAT1, TUBB2B \n",
    "\n",
    "#IMPORTANT: MAPT and MYOF are among the top 5 genes with greatest difference between positive and negative cohorts. \n",
    "#However, MAPT and MYOF appear twice in rna_data with different gene expressions in each, which did not allow my scatterplot to run.\n",
    "#After attending office hours, I was instructed to replace MAPT and MLPH with the next highest difference genes that were not duplicated, which were PSAT1 and TUBB2B.\n"
   ]
  },
  {
   "cell_type": "code",
   "execution_count": null,
   "id": "c6e0af07-1c33-49c3-a964-2f393d400942",
   "metadata": {},
   "outputs": [],
   "source": [
    "#Checking dimensions of rna_data for specific gene\n",
    "rna_data.loc[positive_mask, \"MLPH\"]"
   ]
  },
  {
   "cell_type": "code",
   "execution_count": 11,
   "id": "960d13dd-3374-4546-af8f-7d45b66002ed",
   "metadata": {},
   "outputs": [],
   "source": [
    "#Checking dimensions of protein_data for specific gene\n",
    "#protein_data.loc[positive_mask, \"MYOF\"]\n",
    "import matplotlib.pyplot as plt"
   ]
  },
  {
   "cell_type": "code",
   "execution_count": null,
   "id": "a7300246-d8f7-4670-a799-4a5c55c2681b",
   "metadata": {},
   "outputs": [],
   "source": [
    "#Scatterplot for positive group\n",
    "\n",
    "import matplotlib.pyplot as plt\n",
    "\n",
    "#import seaborn as sns\n",
    "#seaborn is not available on CARC\n",
    "\n",
    "fig, ax = plt.subplots()\n",
    "\n",
    "colors = {'SOX10':'red', 'PPP1R14C':'green', 'SRSF12':'blue', 'PSAT1':'yellow', 'TUBB2B':'purple'} #adds color\n",
    "\n",
    "ax.scatter( # x-axis\n",
    "    x = rna_data.loc[positive_mask, ['SOX10', 'PPP1R14C', 'SRSF12', 'PSAT1', 'TUBB2B']],\n",
    "    y = protein_data.loc[positive_mask, ['SOX10', 'PPP1R14C', 'SRSF12', 'PSAT1', 'TUBB2B']],# y-axis\n",
    "    # ax = ax  # necessary for when plotting more than 1 subplot\n",
    ")\n",
    "\n",
    "plt.xlabel('rna expression') # Adds labels\n",
    "plt.ylabel('protein expression')\n",
    "plt.legend()  #Adds legend\n",
    "\n",
    "\n",
    "fig.suptitle('RNA Expression vs Protein Expression in Positive TNBC Cohort')  # adds title\n",
    "\n",
    "plt.show()"
   ]
  },
  {
   "cell_type": "code",
   "execution_count": null,
   "id": "8041fa50-4be0-4922-a2ac-705047acef23",
   "metadata": {},
   "outputs": [],
   "source": [
    "#Scatterplot for negative group\n",
    "\n",
    "\n",
    "fig, ax = plt.subplots()\n",
    "\n",
    "colors = {'SOX10':'red', 'PPP1R14C':'green', 'SRSF12':'blue', 'PSAT1':'yellow', 'TUBB2B':'purple'} #adds color\n",
    "\n",
    "ax.scatter( # x-axis\n",
    "    x = rna_data.loc[negative_mask, ['SOX10', 'PPP1R14C', 'SRSF12', 'PSAT1', 'TUBB2B']],\n",
    "    y = protein_data.loc[negative_mask, ['SOX10', 'PPP1R14C', 'SRSF12', 'PSAT1', 'TUBB2B']],# y-axis\n",
    "    # ax = ax  # necessary for when plotting more than 1 subplot\n",
    ")\n",
    "\n",
    "plt.xlabel('rna expression') #adds label\n",
    "plt.ylabel('protein expression')\n",
    "plt.legend() #adds legend\n",
    "\n",
    "fig.suptitle('RNA Expression vs Protein Expression in Negative TNBC Cohort')  # adds title\n",
    "\n",
    "plt.show()"
   ]
  },
  {
   "cell_type": "markdown",
   "id": "d374d6f3",
   "metadata": {},
   "source": [
    "## 2. Interpretation Skills\n",
    "This section is short-answer based written responses. Please respond in 2-3 sentences to each question below for full credit.\n",
    "1. What do the numbers within the protein and transcriptomics DataFrames represent? Why do we represent them this way?\n",
    "2. Why are there fewer columns in the protein DataFrame than the transcriptomics one?\n",
    "3. Explain how the central dogma may be broken in between DNA -> RNA -> Proteins and how this might affect our proteomics data.\n",
    "4. Why is proteomics data relatively scarce compared to sequencing data?\n",
    "5. Should we ever expect protein expression to be 0 in a tumor sample?\n",
    "6. What are protein domains and how do they relate to the role of a protein?\n",
    "7. Overexpression of the ERBB2 gene is found in up to 20% of breast cancer cases. ERBB2 encodes the receptor tyrosine-protein kinase erbB-2, frequently called HER2 in humans. Thus, cases in which ERBB2 is overexpressed are referred to as HER2+. Briefly skim the following paper and answer the following questions. https://www.sciencedirect.com/science/article/pii/S1044579X20300493\n",
    ">Is ERBB2 an oncogene or a tumor suppressor gene? How do mutations within the gene affect the prognosis of the disease?\n",
    "<br></br>\n",
    ">What are some treatment strategies for HER2+ breast cancer?\n",
    "<br></br>\n",
    ">What is one recent development that has changed our understanding of HER2+ breast cancer?"
   ]
  },
  {
   "cell_type": "code",
   "execution_count": null,
   "id": "3868ca93-e83b-4f6a-94d6-ff1666d5816a",
   "metadata": {},
   "outputs": [],
   "source": [
    "#1\n",
    "#The number represent protein/gene expression of a specific patient compared to a pool of all samples. They are represented this way so each dataframe has the same number of rows, making it easier to compare patient information.\n",
    "\n",
    "#2\n",
    "#Multiple genes are coding for the same protein. Alternatively, reverse transcription may occur where instead of being translated into a protein, some RNA may be used to synthesize DNA. This can promote cancer cell proliferation.\n",
    "\n",
    "#3\n",
    "#The central dogma states that genetic information can only flow one direction. If this flow is broken during transcription from DNA to RNA, such malfunctions in RNA polymerase, fewer proteins and less columns would be found in our proteomics data. The same applies to if errors in translation from mRNA to amino acids were to occur in the ribosome.\n",
    "\n",
    "#4\n",
    "#Proteins of a tumor sample can significatly vary by amount. It may be difficult to detect low-abundance proteins without exclusing the high-abundance ones, and vice versa. Proteins are also much more complex than DNA/RNA. Where there are only four standard nucleotide bases, proteins have 20 amino acids and can adopt many different structures from folding.\n",
    "\n",
    "#5\n",
    "#No, this would be represented as a NaN value.\n",
    "\n",
    "#6\n",
    "#A protein domain is a structural or functional unit of a protein. Most proteins consist of several domains, which can work independently or in a collaborative manner with its neighnors, enabling protein multifunctionality and specialization.\n",
    "\n",
    "#7\n",
    "#ERBB2 is an oncogene, and overexpression leads to poorer prognosis compared to HER2- cases of breast carcinomas. HER2+ influences cancer cell proligeration, migration, invasion, and patient survival rates.\n",
    "#Monoclonal antibody trastuzumab is a potential treatment, targeting the extracellular domain of HER2 to promote normal tyrosine kinase signaling. Trastuzumab-containing chemotherapy, neoadjuvant anthracycline-taxane-based chemotherapy, and other chemotherapies involving taxanes were also cited.\n",
    "#Creation of the new category HER2-low is significant as prior studies always categorized overexpression as HER2+ or HER2-. More specific classifications allow more effective, individualized therapeautic approaches.\n"
   ]
  },
  {
   "cell_type": "markdown",
   "id": "6b5fe38f",
   "metadata": {},
   "source": [
    "## 3. Challenge Exercise - Incorporating Genomics\n",
    "This exercise is optional and is worth extra credit up to 5 points. The combined extra credit between challenge exercises will cap out at 5 points total.\n",
    "<br></br>\n",
    "We can get somatic mutation data for cptac patients the same way we get proteomics, transcriptomical, or clinical. Let's explore some aspects of it.\n",
    "1. Save the BRCA somatic mutation data to `mutation_data`\n",
    "2. Determine the top 10 most commonly mutated genes within the dataset.\n",
    "3. Determine what percent of patients have a mutation in at least one of those genes.\n",
    "4. Create a bar plot that shows percent percent of patients that have exactly 0-10 out of 10 of those mutations. Name axes and titles appropriately."
   ]
  },
  {
   "cell_type": "code",
   "execution_count": null,
   "id": "6c491898",
   "metadata": {},
   "outputs": [],
   "source": [
    "# write code here"
   ]
  },
  {
   "cell_type": "markdown",
   "id": "ce764047",
   "metadata": {},
   "source": [
    "## 4. Challenge Exercise - Background Research\n",
    "This exercise is optional and is worth extra credit up to 5 points. The combined extra credit between challenge exercises will cap out at 5 points total.\n",
    "<br></br>\n",
    "PAM50 is a breast cancer model based on clustering of breast cancer subtypes by expression of 50 selected genes. Our clinical data contains PAM50 subtypes for every patient.\n",
    "\n",
    "You can read about the methodology more here:\n",
    "https://www.ncbi.nlm.nih.gov/pmc/articles/PMC2667820/\n",
    "\n",
    "Using the CPTAC dataset, recreate one of the findings present in the paper. Create some form of figure to present your finding. In comments below, state your conclusion from the figure and whether it is supported by the paper above."
   ]
  },
  {
   "cell_type": "code",
   "execution_count": null,
   "id": "93af136e",
   "metadata": {},
   "outputs": [],
   "source": [
    "# write code here"
   ]
  }
 ],
 "metadata": {
  "kernelspec": {
   "display_name": "Python 3 (ipykernel)",
   "language": "python",
   "name": "python3"
  },
  "language_info": {
   "codemirror_mode": {
    "name": "ipython",
    "version": 3
   },
   "file_extension": ".py",
   "mimetype": "text/x-python",
   "name": "python",
   "nbconvert_exporter": "python",
   "pygments_lexer": "ipython3",
   "version": "3.11.4"
  }
 },
 "nbformat": 4,
 "nbformat_minor": 5
}
