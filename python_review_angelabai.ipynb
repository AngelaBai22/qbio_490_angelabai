{
 "cells": [
  {
   "cell_type": "code",
   "execution_count": 1,
   "id": "01934aed-b0eb-427f-8afa-2ad053d90f6b",
   "metadata": {},
   "outputs": [],
   "source": [
    "import os\n",
    "\n",
    "os.chdir('/home1/awbai/analysis_data')"
   ]
  },
  {
   "cell_type": "code",
   "execution_count": 2,
   "id": "883ed28c-dc0b-4de9-8585-3c916d2a4543",
   "metadata": {},
   "outputs": [],
   "source": [
    "# 1. Import cptac\n",
    "import cptac "
   ]
  },
  {
   "cell_type": "code",
   "execution_count": 3,
   "id": "a7f42bcd-f222-4ed1-b02e-ded25dca84ea",
   "metadata": {},
   "outputs": [
    {
     "name": "stdout",
     "output_type": "stream",
     "text": [
      "                                          \r"
     ]
    },
    {
     "name": "stderr",
     "output_type": "stream",
     "text": [
      "cptac warning: Your version of cptac (1.1.2) is out-of-date. Latest is 1.5.7. Please run 'pip install --upgrade cptac' to update it. (/home1/awbai/.conda/envs/qbio_490_angela/lib/python3.9/threading.py, line 917)\n"
     ]
    },
    {
     "name": "stdout",
     "output_type": "stream",
     "text": [
      "                                          \r"
     ]
    }
   ],
   "source": [
    "# 3. Download the ccrcc cancer data \n",
    "cptac.download(dataset=\"Ccrcc\")\n",
    "\n",
    "# 4. Load the breast cancer data set\n",
    "ccrcc = cptac.Ccrcc()"
   ]
  },
  {
   "cell_type": "code",
   "execution_count": 4,
   "id": "60d2bafc-37ed-4448-aae2-ce6b98278ccb",
   "metadata": {},
   "outputs": [],
   "source": [
    "protein_data = ccrcc.get_proteomics() # get the proteomics data\n",
    "protein_data.columns = protein_data.columns.get_level_values(0) \n",
    "#protein_data "
   ]
  },
  {
   "cell_type": "code",
   "execution_count": 5,
   "id": "f3e72766-2253-4161-a7ce-82bea8116121",
   "metadata": {},
   "outputs": [],
   "source": [
    "rna_data = ccrcc.get_transcriptomics() # get the rna data\n",
    "#rna_data"
   ]
  },
  {
   "cell_type": "code",
   "execution_count": 6,
   "id": "cf8ab66c-1384-42ab-84ab-c4b79f40485b",
   "metadata": {},
   "outputs": [],
   "source": [
    "clinical_data = ccrcc.get_clinical() # get the rna data\n",
    "#clinical_data"
   ]
  },
  {
   "cell_type": "code",
   "execution_count": 7,
   "id": "5ce2bd76-4f04-4f5c-98e5-f323d11ddc22",
   "metadata": {},
   "outputs": [],
   "source": [
    "import numpy as np\n",
    "import pandas as pd\n",
    "\n",
    "#Preprocessing \n",
    "clinical_data = clinical_data[clinical_data[\"tumor_stage_pathological\"].notna()]\n",
    "ccrcc_index = clinical_data.index\n",
    "protein_data = protein_data.loc[ccrcc_index]\n"
   ]
  },
  {
   "cell_type": "code",
   "execution_count": 8,
   "id": "7c8fb595-a4e6-492a-b318-1eed5aae9cc3",
   "metadata": {},
   "outputs": [],
   "source": [
    "#Segment tumor_stage_pathological into two cohorts, stage I and stage III\n",
    "\n",
    "#Create a dataframe with just patient barcodes and gender\n",
    "tumor_stage_df = clinical_data[[\"tumor_stage_pathological\"]].copy()\n",
    "\n",
    "#tumor_stage_df\n",
    "\n",
    "#Create a mask selecting only stage 1\n",
    "stage_1_mask = tumor_stage_df['tumor_stage_pathological'] == 'Stage I'\n",
    "\n",
    "#stage_1_mask\n",
    "\n",
    "#Create a mask selecting only stage 3\n",
    "stage_3_mask = tumor_stage_df['tumor_stage_pathological'] == 'Stage III'\n",
    "\n",
    "#stage_3_mask\n"
   ]
  },
  {
   "cell_type": "code",
   "execution_count": 9,
   "id": "e1eb5467-2385-42a6-a576-b2ea8c7b12d1",
   "metadata": {},
   "outputs": [],
   "source": [
    "#Identifying cohorts in protein_data\n",
    "stage_1_protein_data = protein_data.loc[stage_1_mask]\n",
    "#stage_1_protein_data \n",
    "\n",
    "stage_3_protein_data = protein_data.loc[stage_3_mask]\n",
    "#stage_3_protein_data"
   ]
  },
  {
   "cell_type": "code",
   "execution_count": 10,
   "id": "4d234d2f-13b8-4f4b-8397-c564c5f49603",
   "metadata": {},
   "outputs": [
    {
     "data": {
      "text/plain": [
       "Name\n",
       "GDF6       -1.646855\n",
       "PARP3      -1.201305\n",
       "MXRA8      -1.103787\n",
       "GPANK1     -1.098036\n",
       "DCAF12L1   -1.097045\n",
       "              ...   \n",
       "ZNF195           NaN\n",
       "ZNF275           NaN\n",
       "ZNF507           NaN\n",
       "ZNF71            NaN\n",
       "ZNF823           NaN\n",
       "Length: 11710, dtype: float64"
      ]
     },
     "execution_count": 10,
     "metadata": {},
     "output_type": "execute_result"
    }
   ],
   "source": [
    "#Finding difference between means of each protein\n",
    "stage_1_protein_mean = np.mean(stage_1_protein_data, axis=0)\n",
    "stage_1_protein_mean\n",
    "\n",
    "stage_3_protein_mean = np.mean(stage_3_protein_data, axis=0)\n",
    "stage_3_protein_mean\n",
    "\n",
    "difference_protein_mean = (stage_1_protein_mean - stage_3_protein_mean)\n",
    "difference_protein_mean\n",
    "\n",
    "difference_protein_mean.sort_values()\n"
   ]
  },
  {
   "cell_type": "code",
   "execution_count": 17,
   "id": "ac5073cd-40d1-4d17-9e59-82ddef6c43c8",
   "metadata": {},
   "outputs": [
    {
     "name": "stdout",
     "output_type": "stream",
     "text": [
      "Name            GDF6     PARP3     MXRA8    GPANK1  DCAF12L1\n",
      "Patient_ID                                                  \n",
      "C3L-00004        NaN       NaN       NaN       NaN       NaN\n",
      "C3L-00010        NaN       NaN       NaN       NaN       NaN\n",
      "C3L-00011        NaN -0.199905       NaN       NaN       NaN\n",
      "C3L-00026        NaN       NaN       NaN       NaN -0.526813\n",
      "C3L-00079   1.831929  0.518124       NaN       NaN       NaN\n",
      "...              ...       ...       ...       ...       ...\n",
      "C3N-01646        NaN       NaN       NaN -0.268065       NaN\n",
      "C3N-01648        NaN       NaN       NaN       NaN       NaN\n",
      "C3N-01649        NaN       NaN       NaN       NaN       NaN\n",
      "C3N-01651        NaN       NaN -0.506678       NaN       NaN\n",
      "C3N-01808        NaN       NaN       NaN       NaN       NaN\n",
      "\n",
      "[110 rows x 5 columns]\n"
     ]
    }
   ],
   "source": [
    "#Top 5 Proteins: GDF6,PARP3,MXRA8,GPANK1,DCAF12L1\n",
    "\n",
    "proteins = ['GDF6','PARP3','MXRA8','GPANK1','DCAF12L1']\n",
    "\n",
    "top_proteins = protein_data[proteins]\n",
    "\n",
    "print(top_proteins)\n"
   ]
  },
  {
   "cell_type": "code",
   "execution_count": 11,
   "id": "abe01395-1073-4097-ba50-e075a10275d7",
   "metadata": {},
   "outputs": [
    {
     "name": "stderr",
     "output_type": "stream",
     "text": [
      "/home1/awbai/.conda/envs/qbio_490_angela/lib/python3.9/site-packages/pandas/core/internals/blocks.py:366: RuntimeWarning: divide by zero encountered in log2\n",
      "  result = func(self.values, **kwargs)\n"
     ]
    }
   ],
   "source": [
    "#Creating new dataframe of genes where rows are patients and columns are expression values\n",
    "\n",
    "rna_data = rna_data.loc[ccrcc_index]\n",
    "log_rna = np.log2(rna_data)"
   ]
  },
  {
   "cell_type": "code",
   "execution_count": 12,
   "id": "6f34e042-a95f-401a-a0d4-15752ee6304c",
   "metadata": {},
   "outputs": [],
   "source": [
    "#Identifying stage 1 and stage 3 cohorts in rna_data\n",
    "stage_1_rna_data = log_rna.loc[stage_1_mask]\n",
    "#stage_1_rna_data \n",
    "\n",
    "stage_3_rna_data = log_rna.loc[stage_3_mask]\n",
    "#stage_3_rna_data"
   ]
  },
  {
   "cell_type": "code",
   "execution_count": 13,
   "id": "9f104b06-4b6c-410c-9705-445e2e6b1713",
   "metadata": {},
   "outputs": [
    {
     "data": {
      "text/plain": [
       "Name\n",
       "HIPK4     -inf\n",
       "KCNA2     -inf\n",
       "SFRP2     -inf\n",
       "JSRP1     -inf\n",
       "CLDN16    -inf\n",
       "          ... \n",
       "ZSCAN10    NaN\n",
       "ZSCAN4     NaN\n",
       "ZSCAN5B    NaN\n",
       "ZSCAN5C    NaN\n",
       "ZSWIM2     NaN\n",
       "Length: 19275, dtype: float64"
      ]
     },
     "execution_count": 13,
     "metadata": {},
     "output_type": "execute_result"
    }
   ],
   "source": [
    "#Finding difference between means of each gene\n",
    "stage_1_rna_mean = np.mean(stage_1_rna_data, axis=0)\n",
    "stage_1_rna_mean\n",
    "\n",
    "stage_3_rna_mean = np.mean(stage_3_rna_data, axis=0)\n",
    "stage_3_rna_mean\n",
    "\n",
    "difference_rna_mean = (stage_1_rna_mean - stage_3_rna_mean)\n",
    "difference_rna_mean\n",
    "\n",
    "difference_rna_mean.sort_values()"
   ]
  },
  {
   "cell_type": "code",
   "execution_count": 14,
   "id": "408f615c-e47e-4a03-a3e6-9994ac374841",
   "metadata": {},
   "outputs": [
    {
     "name": "stdout",
     "output_type": "stream",
     "text": [
      "Name           HIPK4     KCNA2     SFRP2     JSRP1    CLDN16\n",
      "Patient_ID                                                  \n",
      "C3L-00004  -5.271505 -4.704160  0.507348  0.420916 -3.880805\n",
      "C3L-00010  -6.711398 -4.189856  1.821756 -4.603939 -3.806124\n",
      "C3L-00011  -6.590781  0.148992  1.506826      -inf -4.007436\n",
      "C3L-00026       -inf -4.674509 -3.292724 -2.871362 -1.308012\n",
      "C3L-00079  -2.596586 -5.514668  1.406276 -2.126558 -2.013241\n",
      "...              ...       ...       ...       ...       ...\n",
      "C3N-01646  -4.463693 -3.404494 -0.983181 -2.548879 -2.420916\n",
      "C3N-01648  -2.494321  1.769761  6.509188  5.104991 -5.232904\n",
      "C3N-01649  -4.181524 -4.476675  3.075945 -2.811031 -2.832644\n",
      "C3N-01651  -4.849088 -4.281742 -0.993067 -2.741629 -0.565303\n",
      "C3N-01808  -4.179804 -6.612458 -4.908746 -4.072346 -6.596459\n",
      "\n",
      "[110 rows x 5 columns]\n"
     ]
    }
   ],
   "source": [
    "#Top 5 Genes: HIPK4,KCNA2,SFRP2,JSRP1,CLDN16\n",
    "\n",
    "top_genes = ['HIPK4','KCNA2','SFRP2','JSRP1','CLDN16']\n",
    "\n",
    "rna_top_genes = log_rna[top_genes]\n",
    "print(rna_top_genes)"
   ]
  },
  {
   "cell_type": "code",
   "execution_count": 49,
   "id": "26c01416-4026-4358-8b23-4b5a99da271d",
   "metadata": {},
   "outputs": [
    {
     "data": {
      "text/plain": [
       "Patient_ID\n",
       "C3L-00004    Stage III\n",
       "C3L-00010      Stage I\n",
       "C3L-00011     Stage IV\n",
       "C3L-00026      Stage I\n",
       "C3L-00079    Stage III\n",
       "               ...    \n",
       "C3N-01646    Stage III\n",
       "C3N-01648     Stage II\n",
       "C3N-01649    Stage III\n",
       "C3N-01651     Stage II\n",
       "C3N-01808      Stage I\n",
       "Name: tumor_stage_pathological, Length: 104, dtype: object"
      ]
     },
     "execution_count": 49,
     "metadata": {},
     "output_type": "execute_result"
    }
   ],
   "source": [
    "#Create a list of the patients' cancer stages \n",
    "cancer_stage = clinical_data['tumor_stage_pathological']\n",
    "\n",
    "#Making cancer_stage and rna_top_genes the same number of rows, NaN selected\n",
    "cancer_mask = ['C3L-00097', 'C3L-00448', 'C3L-00796', 'C3L-01607', 'C3N-00313', 'C3N-01178']\n",
    "stage_mask = ~cancer_stage.index.isin(cancer_mask)\n",
    "cancer_stage = cancer_stage[stage_mask]\n",
    "\n",
    "cancer_stage"
   ]
  },
  {
   "cell_type": "code",
   "execution_count": 50,
   "id": "4f38a349-3c34-4433-9667-2c85b15f070b",
   "metadata": {},
   "outputs": [
    {
     "name": "stdout",
     "output_type": "stream",
     "text": [
      "Name           HIPK4     KCNA2     SFRP2     JSRP1    CLDN16\n",
      "Patient_ID                                                  \n",
      "C3L-00004  -5.271505 -4.704160  0.507348  0.420916 -3.880805\n",
      "C3L-00010  -6.711398 -4.189856  1.821756 -4.603939 -3.806124\n",
      "C3L-00079  -2.596586 -5.514668  1.406276 -2.126558 -2.013241\n",
      "C3L-00088  -4.140389 -4.194532 -1.103796 -3.354859 -4.294010\n",
      "C3L-00096  -2.837184 -3.800353 -0.179102  0.739760 -0.824995\n",
      "...              ...       ...       ...       ...       ...\n",
      "C3N-01646  -4.463693 -3.404494 -0.983181 -2.548879 -2.420916\n",
      "C3N-01648  -2.494321  1.769761  6.509188  5.104991 -5.232904\n",
      "C3N-01649  -4.181524 -4.476675  3.075945 -2.811031 -2.832644\n",
      "C3N-01651  -4.849088 -4.281742 -0.993067 -2.741629 -0.565303\n",
      "C3N-01808  -4.179804 -6.612458 -4.908746 -4.072346 -6.596459\n",
      "\n",
      "[104 rows x 5 columns]\n",
      "Patient_ID\n",
      "C3L-00004    Stage III\n",
      "C3L-00010      Stage I\n",
      "C3L-00011     Stage IV\n",
      "C3L-00026      Stage I\n",
      "C3L-00079    Stage III\n",
      "               ...    \n",
      "C3N-01646    Stage III\n",
      "C3N-01648     Stage II\n",
      "C3N-01649    Stage III\n",
      "C3N-01651     Stage II\n",
      "C3N-01808      Stage I\n",
      "Name: tumor_stage_pathological, Length: 104, dtype: object\n"
     ]
    }
   ],
   "source": [
    "#Scaling and encoding\n",
    "\n",
    "import numpy as np\n",
    "import pandas as pd\n",
    "from sklearn.preprocessing import OrdinalEncoder\n",
    "from sklearn.preprocessing import StandardScaler, LabelEncoder\n",
    "from sklearn.model_selection import train_test_split\n",
    "from sklearn.impute import SimpleImputer\n",
    "import warnings\n",
    "warnings.filterwarnings('ignore')\n",
    "\n",
    "rna_top_genes.replace([np.inf, -np.inf], np.nan, inplace = True)\n",
    "rna_top_genes = rna_top_genes.dropna()\n",
    "\n",
    "cancer_stage = cancer_stage.dropna()\n",
    "\n",
    "scaler = StandardScaler()\n",
    "scaled_feature = scaler.fit_transform(rna_top_genes)\n",
    "\n",
    "#Encoding\n",
    "label = LabelEncoder()\n",
    "label_encoder_features = label.fit_transform(cancer_stage)\n",
    "\n",
    "#encoder = OrdinalEncoder()\n",
    "#unencoded_columns = cancer_stages_list\n",
    "#encoded_columns = encoder.fit_transform(unencoded_columns)\n",
    "#cancer_stages_list = encoded_columns\n",
    "\n",
    "#cancer_stages_list\n",
    "\n",
    "print(rna_top_genes)\n",
    "print(cancer_stage)"
   ]
  },
  {
   "cell_type": "code",
   "execution_count": 51,
   "id": "534f2cf7-5879-4a6d-8c21-6b749eaa1cf0",
   "metadata": {},
   "outputs": [
    {
     "name": "stdout",
     "output_type": "stream",
     "text": [
      "(72, 5)\n",
      "(32, 5)\n",
      "(72,)\n",
      "(32,)\n"
     ]
    }
   ],
   "source": [
    "#Train Split Test (train_size = 0.7)\n",
    "\n",
    "from sklearn.model_selection import train_test_split\n",
    "\n",
    "X_train, X_test, y_train, y_test = train_test_split(rna_top_genes, cancer_stage, train_size=0.7, random_state=4)\n",
    "print(X_train.shape) # dataset split by train size\n",
    "print(X_test.shape) # dataset not included in above dataset\n",
    "print(y_train.shape) # labels for corresponding X_train\n",
    "print(y_test.shape) # labels for corresponding X_test\n",
    "\n"
   ]
  },
  {
   "cell_type": "code",
   "execution_count": 53,
   "id": "28b29259-7d5f-46af-845b-d9f2a94cd42e",
   "metadata": {},
   "outputs": [
    {
     "name": "stdout",
     "output_type": "stream",
     "text": [
      "0.34375\n",
      "0.25\n",
      "0.3125\n",
      "0.28125\n"
     ]
    }
   ],
   "source": [
    "#Best model: \n",
    "#Testing accuracy of all four classifiers \n",
    "\n",
    "from sklearn.neighbors import KNeighborsClassifier \n",
    "from sklearn.tree import DecisionTreeClassifier\n",
    "from sklearn.neural_network import MLPClassifier\n",
    "from sklearn.naive_bayes import GaussianNB\n",
    "from sklearn.metrics import accuracy_score\n",
    "\n",
    "kneighbors_class = KNeighborsClassifier()\n",
    "decisiontree_class = DecisionTreeClassifier()\n",
    "mlp_class = MLPClassifier()\n",
    "gaussianNB_class = GaussianNB()\n",
    "\n",
    "runs = 10\n",
    "accuracy = []\n",
    "totalScore = 0\n",
    "\n",
    "for _ in range(runs):\n",
    "    X_train, X_test, y_train, y_test = train_test_split(rna_top_genes, cancer_stage, train_size=0.7, random_state=4)\n",
    "\n",
    "#KNeighbors\n",
    "\n",
    "kneighbors_class.fit(X_train, y_train)\n",
    "knn_predictor = kneighbors_class.predict(X_test)\n",
    "knn_accurate = accuracy_score(y_test, knn_predictor)\n",
    "knNeighbors = kneighbors_class.score(np.array(X_test), y_test)\n",
    "\n",
    "#DecisionTree\n",
    "\n",
    "decisiontree_class.fit(X_train, y_train)\n",
    "decisiontree_predictor = decisiontree_class.predict(X_test)\n",
    "decisiontree_accurate = accuracy_score(y_test, decisiontree_predictor)\n",
    "decisionTree = decisiontree_class.score(np.array(X_test), y_test)\n",
    "\n",
    "#MLPClassifier\n",
    "\n",
    "mlp_class.fit(X_train, y_train)\n",
    "mlp_predictor = mlp_class.predict(X_test)\n",
    "mlp_accurate= accuracy_score(y_test, mlp_predictor)\n",
    "mlp = mlp_class.score(np.array(X_test), y_test)\n",
    "\n",
    "#GaussianNB\n",
    "\n",
    "gaussianNB_class.fit(X_train, y_train)\n",
    "gaussianNB_predictor = gaussianNB_class.predict(X_test)\n",
    "gaussianNB_accurate = accuracy_score(y_test, gaussianNB_predictor)\n",
    "gaussianNB = gaussianNB_class.score(np.array(X_test), y_test)\n",
    "\n",
    "print(knNeighbors)\n",
    "print(decisionTree)\n",
    "print(mlp)\n",
    "print(gaussianNB)\n",
    "\n",
    "#The best model is knNeighbors, followed by MLP Classifier, Gaussian NB, and Decision Tree!"
   ]
  }
 ],
 "metadata": {
  "kernelspec": {
   "display_name": "QBIO 490 kernel",
   "language": "python",
   "name": "py3912"
  },
  "language_info": {
   "codemirror_mode": {
    "name": "ipython",
    "version": 3
   },
   "file_extension": ".py",
   "mimetype": "text/x-python",
   "name": "python",
   "nbconvert_exporter": "python",
   "pygments_lexer": "ipython3",
   "version": "3.9.18"
  }
 },
 "nbformat": 4,
 "nbformat_minor": 5
}
